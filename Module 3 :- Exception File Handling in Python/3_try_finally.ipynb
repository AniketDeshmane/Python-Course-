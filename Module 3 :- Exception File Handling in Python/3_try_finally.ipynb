{
 "cells": [
  {
   "cell_type": "markdown",
   "metadata": {},
   "source": [
    "# Try Finally Block"
   ]
  },
  {
   "cell_type": "markdown",
   "metadata": {},
   "source": [
    "You can use a finally: block along with a try: block. The finally block is a place to put any code that must execute, whether the try-block raised an exception or not."
   ]
  },
  {
   "cell_type": "code",
   "execution_count": 2,
   "metadata": {},
   "outputs": [
    {
     "name": "stdout",
     "output_type": "stream",
     "text": [
      "There is a Zero Divsion Error, so correct it!!!!\n",
      "This line will always print\n"
     ]
    }
   ],
   "source": [
    "try:\n",
    "    a = 30\n",
    "    b = 0\n",
    "    print(a//b)\n",
    "except ZeroDivisionError:\n",
    "    print(\"There is a Zero Divsion Error, so correct it!!!!\")\n",
    "finally:\n",
    "    print(\"This line will always print\")"
   ]
  },
  {
   "cell_type": "code",
   "execution_count": null,
   "metadata": {},
   "outputs": [],
   "source": []
  }
 ],
 "metadata": {
  "kernelspec": {
   "display_name": "Python 3",
   "language": "python",
   "name": "python3"
  },
  "language_info": {
   "codemirror_mode": {
    "name": "ipython",
    "version": 3
   },
   "file_extension": ".py",
   "mimetype": "text/x-python",
   "name": "python",
   "nbconvert_exporter": "python",
   "pygments_lexer": "ipython3",
   "version": "3.7.6"
  }
 },
 "nbformat": 4,
 "nbformat_minor": 4
}
