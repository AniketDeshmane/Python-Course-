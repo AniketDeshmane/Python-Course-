{
 "cells": [
  {
   "cell_type": "markdown",
   "metadata": {},
   "source": [
    "# •\tDictionary Functions"
   ]
  },
  {
   "cell_type": "code",
   "execution_count": 1,
   "metadata": {},
   "outputs": [],
   "source": [
    "programming_languages = {\"C\":1978,\"C++\":1985,\"Java\":1995,\"Python\":1989,\"C#\":2000}"
   ]
  },
  {
   "cell_type": "code",
   "execution_count": 2,
   "metadata": {},
   "outputs": [
    {
     "name": "stdout",
     "output_type": "stream",
     "text": [
      "C\n",
      "C++\n",
      "Java\n",
      "Python\n",
      "C#\n"
     ]
    }
   ],
   "source": [
    "# How to apply loop in Dictionaries\n",
    "for i in programming_languages:\n",
    "    print(i)"
   ]
  },
  {
   "cell_type": "code",
   "execution_count": 3,
   "metadata": {},
   "outputs": [
    {
     "name": "stdout",
     "output_type": "stream",
     "text": [
      "1978\n",
      "1985\n",
      "1995\n",
      "1989\n",
      "2000\n"
     ]
    }
   ],
   "source": [
    "for i in programming_languages.values():\n",
    "    print(i)"
   ]
  },
  {
   "cell_type": "code",
   "execution_count": 4,
   "metadata": {},
   "outputs": [
    {
     "name": "stdout",
     "output_type": "stream",
     "text": [
      "C 1978\n",
      "C++ 1985\n",
      "Java 1995\n",
      "Python 1989\n",
      "C# 2000\n"
     ]
    }
   ],
   "source": [
    "for x, y in programming_languages.items():\n",
    "    print(x, y)"
   ]
  },
  {
   "cell_type": "code",
   "execution_count": 6,
   "metadata": {},
   "outputs": [],
   "source": [
    "# Checking if particular key is persent in Dictionary or not\n",
    "if \"HTML\" in programming_languages:\n",
    "    print(\"Yes, 'Python' is present in this programming_languages dictionary\")"
   ]
  },
  {
   "cell_type": "code",
   "execution_count": 9,
   "metadata": {},
   "outputs": [
    {
     "name": "stdout",
     "output_type": "stream",
     "text": [
      "6\n"
     ]
    }
   ],
   "source": [
    "# Finding length of the Dictionary\n",
    "print(len(programming_languages))"
   ]
  },
  {
   "cell_type": "code",
   "execution_count": 8,
   "metadata": {},
   "outputs": [
    {
     "name": "stdout",
     "output_type": "stream",
     "text": [
      "{'C': 1978, 'C++': 1985, 'Java': 1995, 'Python': 1989, 'C#': 2000, 'JavaScript': 1995}\n"
     ]
    }
   ],
   "source": [
    "# Adding new item in the Dictionary\n",
    "programming_languages['JavaScript'] = 1995\n",
    "print(programming_languages)"
   ]
  },
  {
   "cell_type": "code",
   "execution_count": 11,
   "metadata": {},
   "outputs": [
    {
     "name": "stdout",
     "output_type": "stream",
     "text": [
      "{'C': 1978, 'C++': 1985, 'Python': 1989, 'JavaScript': 1995}\n"
     ]
    }
   ],
   "source": [
    "# How to remove items from the Dictionary\n",
    "programming_languages.pop('C#')\n",
    "print(programming_languages)"
   ]
  },
  {
   "cell_type": "code",
   "execution_count": null,
   "metadata": {},
   "outputs": [],
   "source": []
  }
 ],
 "metadata": {
  "kernelspec": {
   "display_name": "Python 3",
   "language": "python",
   "name": "python3"
  },
  "language_info": {
   "codemirror_mode": {
    "name": "ipython",
    "version": 3
   },
   "file_extension": ".py",
   "mimetype": "text/x-python",
   "name": "python",
   "nbconvert_exporter": "python",
   "pygments_lexer": "ipython3",
   "version": "3.7.6"
  }
 },
 "nbformat": 4,
 "nbformat_minor": 4
}
